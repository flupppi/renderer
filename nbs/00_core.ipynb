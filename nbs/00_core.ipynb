{
 "cells": [
  {
   "cell_type": "markdown",
   "metadata": {},
   "source": [
    "# core\n",
    "\n",
    "> Fill in a module description here"
   ]
  },
  {
   "cell_type": "code",
   "execution_count": null,
   "metadata": {},
   "outputs": [],
   "source": [
    "#| default_exp core"
   ]
  },
  {
   "cell_type": "code",
   "execution_count": null,
   "metadata": {},
   "outputs": [],
   "source": [
    "#| hide\n",
    "from nbdev.showdoc import *"
   ]
  },
  {
   "metadata": {},
   "cell_type": "markdown",
   "source": [
    "## Build\n",
    "\n",
    "Switch to the `source` folder of the project.\n",
    "\n",
    "create a folder to store the build in, e.g. `mkdir cmake-build-debug-visual-studio` and navigate to it. From there run cmake to configura the project and generate a native build system.\n",
    "\n",
    "`cd cmake-build-debug-visual-studio`\n",
    "\n",
    "`cmake ..`\n",
    "\n",
    "Then we can call the build system again from the source folder to compile and link the project.\n",
    "\n",
    "`cmake --build .\\cmake-build-debug-visual-studio\\ --target CXXOpenGL`\n",
    "\n",
    "This creates a `CXXOpenGL.exe` that we can run using its different command line parameters.\n",
    "\n",
    "Simply run `.\\cmake-build-debug-visual-studio\\Debug\\CXXOpenGL.exe --help` to print the different options available.\n",
    "\n",
    "```\n",
    "A simple engine with glTF viewer\n",
    "Usage:\n",
    "  Engine [OPTION...]\n",
    "\n",
    "  -p, --program arg  Program mode (Application, BillboardCloud, etc.)\n",
    "                     (default: Application)\n",
    "  -m, --path arg     Path to glTF model file\n",
    "  -h, --help         Print usage information\n",
    "```\n",
    "\n",
    "The different program options available at the moment are:\n",
    "* Application\n",
    "* BillboardCloud\n",
    "\n",
    "Each of these will get a detailed explanation in the following sections.\n",
    "\n",
    "## Raytracer\n",
    "\n"
   ]
  },
  {
   "cell_type": "code",
   "execution_count": null,
   "metadata": {},
   "outputs": [],
   "source": [
    "#| export\n",
    "def foo(): pass"
   ]
  },
  {
   "cell_type": "code",
   "execution_count": null,
   "metadata": {},
   "outputs": [],
   "source": [
    "#| hide\n",
    "import nbdev; nbdev.nbdev_export()"
   ]
  }
 ],
 "metadata": {
  "kernelspec": {
   "display_name": "python3",
   "language": "python",
   "name": "python3"
  }
 },
 "nbformat": 4,
 "nbformat_minor": 4
}
